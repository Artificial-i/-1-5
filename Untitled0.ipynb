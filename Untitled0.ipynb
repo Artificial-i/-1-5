{
  "cells": [
    {
      "cell_type": "markdown",
      "metadata": {
        "id": "view-in-github",
        "colab_type": "text"
      },
      "source": [
        "<a href=\"https://colab.research.google.com/github/Artificial-i/-1-5/blob/main/Untitled0.ipynb\" target=\"_parent\"><img src=\"https://colab.research.google.com/assets/colab-badge.svg\" alt=\"Open In Colab\"/></a>"
      ]
    },
    {
      "cell_type": "code",
      "execution_count": null,
      "metadata": {
        "id": "-n_O_XfbE1os"
      },
      "outputs": [],
      "source": [
        "print('ali')"
      ]
    },
    {
      "cell_type": "code",
      "execution_count": null,
      "metadata": {
        "id": "3V-DvakHFFJO"
      },
      "outputs": [],
      "source": [
        "# from sklearn import datasets\n",
        "from sklearn.datasets import load_iris\n",
        "from sklearn.datasets import fetch_california_housing\n",
        "from sklearn.datasets import make_regression"
      ]
    },
    {
      "cell_type": "code",
      "execution_count": null,
      "metadata": {
        "collapsed": true,
        "id": "gWXp1AkpaTdB"
      },
      "outputs": [],
      "source": [
        "# ds_iris=load_iris()\n",
        "# ds_california_housting=fetch_california_housing()\n",
        "# X,y=make_regression(n_samples=20,n_features=3,noise=0.1)\n",
        "\n",
        "# print(f\"iris Dataset:{ds_iris}\")\n",
        "# print(100*\"*\")\n"
      ]
    },
    {
      "cell_type": "code",
      "execution_count": null,
      "metadata": {
        "colab": {
          "base_uri": "https://localhost:8080/"
        },
        "collapsed": true,
        "id": "EXCwnHObKfRK",
        "outputId": "8592fa56-d421-4506-ecad-4e70a08feff5"
      },
      "outputs": [
        {
          "name": "stdout",
          "output_type": "stream",
          "text": [
            "Drive already mounted at /content/drive; to attempt to forcibly remount, call drive.mount(\"/content/drive\", force_remount=True).\n"
          ]
        }
      ],
      "source": [
        "from google.colab import drive\n",
        "drive.mount('/content/drive')"
      ]
    },
    {
      "cell_type": "code",
      "execution_count": null,
      "metadata": {
        "id": "aNkMvXOxIy81"
      },
      "outputs": [],
      "source": [
        "import pandas as pd"
      ]
    },
    {
      "cell_type": "code",
      "execution_count": null,
      "metadata": {
        "id": "PQ636Oy5Iido"
      },
      "outputs": [],
      "source": [
        "# df=pd.read_csv('hospital.csv')\n",
        "df=pd.read_csv('diabetes_all_2016.csv')"
      ]
    },
    {
      "cell_type": "code",
      "execution_count": null,
      "metadata": {
        "colab": {
          "base_uri": "https://localhost:8080/"
        },
        "collapsed": true,
        "id": "NQ0tJyWIVrlj",
        "outputId": "6ea3a1e7-fd40-49b4-88b7-6bec06c59394"
      },
      "outputs": [
        {
          "data": {
            "text/plain": [
              "{}"
            ]
          },
          "execution_count": 11,
          "metadata": {},
          "output_type": "execute_result"
        }
      ],
      "source": [
        "df.attrs"
      ]
    },
    {
      "cell_type": "code",
      "execution_count": null,
      "metadata": {
        "colab": {
          "base_uri": "https://localhost:8080/",
          "height": 206
        },
        "id": "Ibb-v2Jb8XkB",
        "outputId": "476286b0-9e1e-4d1a-ab72-3f2a610d2d34"
      },
      "outputs": [
        {
          "data": {
            "application/vnd.google.colaboratory.intrinsic+json": {
              "summary": "{\n  \"name\": \"df\",\n  \"rows\": 390,\n  \"fields\": [\n    {\n      \"column\": \"CT\",\n      \"properties\": {\n        \"dtype\": \"number\",\n        \"std\": 164334,\n        \"min\": 10300,\n        \"max\": 980700,\n        \"num_unique_values\": 390,\n        \"samples\": [\n          111300,\n          191400,\n          151700\n        ],\n        \"semantic_type\": \"\",\n        \"description\": \"\"\n      }\n    },\n    {\n      \"column\": \"BPAD\",\n      \"properties\": {\n        \"dtype\": \"number\",\n        \"std\": 902,\n        \"min\": 4,\n        \"max\": 6494,\n        \"num_unique_values\": 365,\n        \"samples\": [\n          1236,\n          999,\n          1097\n        ],\n        \"semantic_type\": \"\",\n        \"description\": \"\"\n      }\n    },\n    {\n      \"column\": \"BPAN\",\n      \"properties\": {\n        \"dtype\": \"number\",\n        \"std\": 80,\n        \"min\": 0,\n        \"max\": 458,\n        \"num_unique_values\": 213,\n        \"samples\": [\n          115,\n          34,\n          175\n        ],\n        \"semantic_type\": \"\",\n        \"description\": \"\"\n      }\n    },\n    {\n      \"column\": \"BPAN2\",\n      \"properties\": {\n        \"dtype\": \"number\",\n        \"std\": 56,\n        \"min\": 0,\n        \"max\": 315,\n        \"num_unique_values\": 174,\n        \"samples\": [\n          141,\n          194,\n          173\n        ],\n        \"semantic_type\": \"\",\n        \"description\": \"\"\n      }\n    },\n    {\n      \"column\": \"BWAD\",\n      \"properties\": {\n        \"dtype\": \"number\",\n        \"std\": 476,\n        \"min\": 3,\n        \"max\": 3294,\n        \"num_unique_values\": 353,\n        \"samples\": [\n          1144,\n          628,\n          497\n        ],\n        \"semantic_type\": \"\",\n        \"description\": \"\"\n      }\n    },\n    {\n      \"column\": \"BWAN\",\n      \"properties\": {\n        \"dtype\": \"number\",\n        \"std\": 41,\n        \"min\": 0,\n        \"max\": 246,\n        \"num_unique_values\": 143,\n        \"samples\": [\n          181,\n          14,\n          69\n        ],\n        \"semantic_type\": \"\",\n        \"description\": \"\"\n      }\n    },\n    {\n      \"column\": \"BWAN2\",\n      \"properties\": {\n        \"dtype\": \"number\",\n        \"std\": 29,\n        \"min\": 0,\n        \"max\": 169,\n        \"num_unique_values\": 113,\n        \"samples\": [\n          17,\n          44,\n          15\n        ],\n        \"semantic_type\": \"\",\n        \"description\": \"\"\n      }\n    },\n    {\n      \"column\": \"BMAD\",\n      \"properties\": {\n        \"dtype\": \"number\",\n        \"std\": 429,\n        \"min\": 1,\n        \"max\": 3200,\n        \"num_unique_values\": 336,\n        \"samples\": [\n          580,\n          1655,\n          340\n        ],\n        \"semantic_type\": \"\",\n        \"description\": \"\"\n      }\n    },\n    {\n      \"column\": \"BMAN\",\n      \"properties\": {\n        \"dtype\": \"number\",\n        \"std\": 41,\n        \"min\": 0,\n        \"max\": 238,\n        \"num_unique_values\": 146,\n        \"samples\": [\n          52,\n          92,\n          67\n        ],\n        \"semantic_type\": \"\",\n        \"description\": \"\"\n      }\n    },\n    {\n      \"column\": \"BMAN2\",\n      \"properties\": {\n        \"dtype\": \"number\",\n        \"std\": 29,\n        \"min\": 0,\n        \"max\": 166,\n        \"num_unique_values\": 111,\n        \"samples\": [\n          45,\n          20,\n          21\n        ],\n        \"semantic_type\": \"\",\n        \"description\": \"\"\n      }\n    }\n  ]\n}",
              "type": "dataframe",
              "variable_name": "df"
            },
            "text/html": [
              "\n",
              "  <div id=\"df-1f2d8034-8564-48ff-9c35-62f10d2f7e1a\" class=\"colab-df-container\">\n",
              "    <div>\n",
              "<style scoped>\n",
              "    .dataframe tbody tr th:only-of-type {\n",
              "        vertical-align: middle;\n",
              "    }\n",
              "\n",
              "    .dataframe tbody tr th {\n",
              "        vertical-align: top;\n",
              "    }\n",
              "\n",
              "    .dataframe thead th {\n",
              "        text-align: right;\n",
              "    }\n",
              "</style>\n",
              "<table border=\"1\" class=\"dataframe\">\n",
              "  <thead>\n",
              "    <tr style=\"text-align: right;\">\n",
              "      <th></th>\n",
              "      <th>CT</th>\n",
              "      <th>BPAD</th>\n",
              "      <th>BPAN</th>\n",
              "      <th>BPAN2</th>\n",
              "      <th>BWAD</th>\n",
              "      <th>BWAN</th>\n",
              "      <th>BWAN2</th>\n",
              "      <th>BMAD</th>\n",
              "      <th>BMAN</th>\n",
              "      <th>BMAN2</th>\n",
              "    </tr>\n",
              "  </thead>\n",
              "  <tbody>\n",
              "    <tr>\n",
              "      <th>0</th>\n",
              "      <td>100500</td>\n",
              "      <td>1237</td>\n",
              "      <td>179</td>\n",
              "      <td>130</td>\n",
              "      <td>712</td>\n",
              "      <td>97</td>\n",
              "      <td>72</td>\n",
              "      <td>525</td>\n",
              "      <td>82</td>\n",
              "      <td>58</td>\n",
              "    </tr>\n",
              "    <tr>\n",
              "      <th>1</th>\n",
              "      <td>101100</td>\n",
              "      <td>1080</td>\n",
              "      <td>97</td>\n",
              "      <td>65</td>\n",
              "      <td>583</td>\n",
              "      <td>48</td>\n",
              "      <td>33</td>\n",
              "      <td>497</td>\n",
              "      <td>49</td>\n",
              "      <td>32</td>\n",
              "    </tr>\n",
              "    <tr>\n",
              "      <th>2</th>\n",
              "      <td>101400</td>\n",
              "      <td>1865</td>\n",
              "      <td>157</td>\n",
              "      <td>118</td>\n",
              "      <td>1033</td>\n",
              "      <td>76</td>\n",
              "      <td>57</td>\n",
              "      <td>832</td>\n",
              "      <td>81</td>\n",
              "      <td>61</td>\n",
              "    </tr>\n",
              "    <tr>\n",
              "      <th>3</th>\n",
              "      <td>101600</td>\n",
              "      <td>698</td>\n",
              "      <td>66</td>\n",
              "      <td>44</td>\n",
              "      <td>397</td>\n",
              "      <td>48</td>\n",
              "      <td>35</td>\n",
              "      <td>301</td>\n",
              "      <td>18</td>\n",
              "      <td>9</td>\n",
              "    </tr>\n",
              "    <tr>\n",
              "      <th>4</th>\n",
              "      <td>101700</td>\n",
              "      <td>928</td>\n",
              "      <td>87</td>\n",
              "      <td>65</td>\n",
              "      <td>555</td>\n",
              "      <td>54</td>\n",
              "      <td>44</td>\n",
              "      <td>373</td>\n",
              "      <td>33</td>\n",
              "      <td>21</td>\n",
              "    </tr>\n",
              "  </tbody>\n",
              "</table>\n",
              "</div>\n",
              "    <div class=\"colab-df-buttons\">\n",
              "\n",
              "  <div class=\"colab-df-container\">\n",
              "    <button class=\"colab-df-convert\" onclick=\"convertToInteractive('df-1f2d8034-8564-48ff-9c35-62f10d2f7e1a')\"\n",
              "            title=\"Convert this dataframe to an interactive table.\"\n",
              "            style=\"display:none;\">\n",
              "\n",
              "  <svg xmlns=\"http://www.w3.org/2000/svg\" height=\"24px\" viewBox=\"0 -960 960 960\">\n",
              "    <path d=\"M120-120v-720h720v720H120Zm60-500h600v-160H180v160Zm220 220h160v-160H400v160Zm0 220h160v-160H400v160ZM180-400h160v-160H180v160Zm440 0h160v-160H620v160ZM180-180h160v-160H180v160Zm440 0h160v-160H620v160Z\"/>\n",
              "  </svg>\n",
              "    </button>\n",
              "\n",
              "  <style>\n",
              "    .colab-df-container {\n",
              "      display:flex;\n",
              "      gap: 12px;\n",
              "    }\n",
              "\n",
              "    .colab-df-convert {\n",
              "      background-color: #E8F0FE;\n",
              "      border: none;\n",
              "      border-radius: 50%;\n",
              "      cursor: pointer;\n",
              "      display: none;\n",
              "      fill: #1967D2;\n",
              "      height: 32px;\n",
              "      padding: 0 0 0 0;\n",
              "      width: 32px;\n",
              "    }\n",
              "\n",
              "    .colab-df-convert:hover {\n",
              "      background-color: #E2EBFA;\n",
              "      box-shadow: 0px 1px 2px rgba(60, 64, 67, 0.3), 0px 1px 3px 1px rgba(60, 64, 67, 0.15);\n",
              "      fill: #174EA6;\n",
              "    }\n",
              "\n",
              "    .colab-df-buttons div {\n",
              "      margin-bottom: 4px;\n",
              "    }\n",
              "\n",
              "    [theme=dark] .colab-df-convert {\n",
              "      background-color: #3B4455;\n",
              "      fill: #D2E3FC;\n",
              "    }\n",
              "\n",
              "    [theme=dark] .colab-df-convert:hover {\n",
              "      background-color: #434B5C;\n",
              "      box-shadow: 0px 1px 3px 1px rgba(0, 0, 0, 0.15);\n",
              "      filter: drop-shadow(0px 1px 2px rgba(0, 0, 0, 0.3));\n",
              "      fill: #FFFFFF;\n",
              "    }\n",
              "  </style>\n",
              "\n",
              "    <script>\n",
              "      const buttonEl =\n",
              "        document.querySelector('#df-1f2d8034-8564-48ff-9c35-62f10d2f7e1a button.colab-df-convert');\n",
              "      buttonEl.style.display =\n",
              "        google.colab.kernel.accessAllowed ? 'block' : 'none';\n",
              "\n",
              "      async function convertToInteractive(key) {\n",
              "        const element = document.querySelector('#df-1f2d8034-8564-48ff-9c35-62f10d2f7e1a');\n",
              "        const dataTable =\n",
              "          await google.colab.kernel.invokeFunction('convertToInteractive',\n",
              "                                                    [key], {});\n",
              "        if (!dataTable) return;\n",
              "\n",
              "        const docLinkHtml = 'Like what you see? Visit the ' +\n",
              "          '<a target=\"_blank\" href=https://colab.research.google.com/notebooks/data_table.ipynb>data table notebook</a>'\n",
              "          + ' to learn more about interactive tables.';\n",
              "        element.innerHTML = '';\n",
              "        dataTable['output_type'] = 'display_data';\n",
              "        await google.colab.output.renderOutput(dataTable, element);\n",
              "        const docLink = document.createElement('div');\n",
              "        docLink.innerHTML = docLinkHtml;\n",
              "        element.appendChild(docLink);\n",
              "      }\n",
              "    </script>\n",
              "  </div>\n",
              "\n",
              "\n",
              "<div id=\"df-de1652ba-9300-4c8d-aab5-ece4f9922038\">\n",
              "  <button class=\"colab-df-quickchart\" onclick=\"quickchart('df-de1652ba-9300-4c8d-aab5-ece4f9922038')\"\n",
              "            title=\"Suggest charts\"\n",
              "            style=\"display:none;\">\n",
              "\n",
              "<svg xmlns=\"http://www.w3.org/2000/svg\" height=\"24px\"viewBox=\"0 0 24 24\"\n",
              "     width=\"24px\">\n",
              "    <g>\n",
              "        <path d=\"M19 3H5c-1.1 0-2 .9-2 2v14c0 1.1.9 2 2 2h14c1.1 0 2-.9 2-2V5c0-1.1-.9-2-2-2zM9 17H7v-7h2v7zm4 0h-2V7h2v10zm4 0h-2v-4h2v4z\"/>\n",
              "    </g>\n",
              "</svg>\n",
              "  </button>\n",
              "\n",
              "<style>\n",
              "  .colab-df-quickchart {\n",
              "      --bg-color: #E8F0FE;\n",
              "      --fill-color: #1967D2;\n",
              "      --hover-bg-color: #E2EBFA;\n",
              "      --hover-fill-color: #174EA6;\n",
              "      --disabled-fill-color: #AAA;\n",
              "      --disabled-bg-color: #DDD;\n",
              "  }\n",
              "\n",
              "  [theme=dark] .colab-df-quickchart {\n",
              "      --bg-color: #3B4455;\n",
              "      --fill-color: #D2E3FC;\n",
              "      --hover-bg-color: #434B5C;\n",
              "      --hover-fill-color: #FFFFFF;\n",
              "      --disabled-bg-color: #3B4455;\n",
              "      --disabled-fill-color: #666;\n",
              "  }\n",
              "\n",
              "  .colab-df-quickchart {\n",
              "    background-color: var(--bg-color);\n",
              "    border: none;\n",
              "    border-radius: 50%;\n",
              "    cursor: pointer;\n",
              "    display: none;\n",
              "    fill: var(--fill-color);\n",
              "    height: 32px;\n",
              "    padding: 0;\n",
              "    width: 32px;\n",
              "  }\n",
              "\n",
              "  .colab-df-quickchart:hover {\n",
              "    background-color: var(--hover-bg-color);\n",
              "    box-shadow: 0 1px 2px rgba(60, 64, 67, 0.3), 0 1px 3px 1px rgba(60, 64, 67, 0.15);\n",
              "    fill: var(--button-hover-fill-color);\n",
              "  }\n",
              "\n",
              "  .colab-df-quickchart-complete:disabled,\n",
              "  .colab-df-quickchart-complete:disabled:hover {\n",
              "    background-color: var(--disabled-bg-color);\n",
              "    fill: var(--disabled-fill-color);\n",
              "    box-shadow: none;\n",
              "  }\n",
              "\n",
              "  .colab-df-spinner {\n",
              "    border: 2px solid var(--fill-color);\n",
              "    border-color: transparent;\n",
              "    border-bottom-color: var(--fill-color);\n",
              "    animation:\n",
              "      spin 1s steps(1) infinite;\n",
              "  }\n",
              "\n",
              "  @keyframes spin {\n",
              "    0% {\n",
              "      border-color: transparent;\n",
              "      border-bottom-color: var(--fill-color);\n",
              "      border-left-color: var(--fill-color);\n",
              "    }\n",
              "    20% {\n",
              "      border-color: transparent;\n",
              "      border-left-color: var(--fill-color);\n",
              "      border-top-color: var(--fill-color);\n",
              "    }\n",
              "    30% {\n",
              "      border-color: transparent;\n",
              "      border-left-color: var(--fill-color);\n",
              "      border-top-color: var(--fill-color);\n",
              "      border-right-color: var(--fill-color);\n",
              "    }\n",
              "    40% {\n",
              "      border-color: transparent;\n",
              "      border-right-color: var(--fill-color);\n",
              "      border-top-color: var(--fill-color);\n",
              "    }\n",
              "    60% {\n",
              "      border-color: transparent;\n",
              "      border-right-color: var(--fill-color);\n",
              "    }\n",
              "    80% {\n",
              "      border-color: transparent;\n",
              "      border-right-color: var(--fill-color);\n",
              "      border-bottom-color: var(--fill-color);\n",
              "    }\n",
              "    90% {\n",
              "      border-color: transparent;\n",
              "      border-bottom-color: var(--fill-color);\n",
              "    }\n",
              "  }\n",
              "</style>\n",
              "\n",
              "  <script>\n",
              "    async function quickchart(key) {\n",
              "      const quickchartButtonEl =\n",
              "        document.querySelector('#' + key + ' button');\n",
              "      quickchartButtonEl.disabled = true;  // To prevent multiple clicks.\n",
              "      quickchartButtonEl.classList.add('colab-df-spinner');\n",
              "      try {\n",
              "        const charts = await google.colab.kernel.invokeFunction(\n",
              "            'suggestCharts', [key], {});\n",
              "      } catch (error) {\n",
              "        console.error('Error during call to suggestCharts:', error);\n",
              "      }\n",
              "      quickchartButtonEl.classList.remove('colab-df-spinner');\n",
              "      quickchartButtonEl.classList.add('colab-df-quickchart-complete');\n",
              "    }\n",
              "    (() => {\n",
              "      let quickchartButtonEl =\n",
              "        document.querySelector('#df-de1652ba-9300-4c8d-aab5-ece4f9922038 button');\n",
              "      quickchartButtonEl.style.display =\n",
              "        google.colab.kernel.accessAllowed ? 'block' : 'none';\n",
              "    })();\n",
              "  </script>\n",
              "</div>\n",
              "    </div>\n",
              "  </div>\n"
            ],
            "text/plain": [
              "       CT  BPAD  BPAN  BPAN2  BWAD  BWAN  BWAN2  BMAD  BMAN  BMAN2\n",
              "0  100500  1237   179    130   712    97     72   525    82     58\n",
              "1  101100  1080    97     65   583    48     33   497    49     32\n",
              "2  101400  1865   157    118  1033    76     57   832    81     61\n",
              "3  101600   698    66     44   397    48     35   301    18      9\n",
              "4  101700   928    87     65   555    54     44   373    33     21"
            ]
          },
          "execution_count": 12,
          "metadata": {},
          "output_type": "execute_result"
        }
      ],
      "source": [
        "df.head()\n",
        "df.head(10)\n",
        "df.tail()\n",
        "df.describe\n",
        "df.columns\n",
        "df.index\n",
        "df.attrs\n",
        "df.value_counts\n",
        "df.values\n",
        "df.dtypes"
      ]
    },
    {
      "cell_type": "code",
      "execution_count": null,
      "metadata": {
        "colab": {
          "base_uri": "https://localhost:8080/"
        },
        "id": "gywg1RSE-gqf",
        "outputId": "1bf3ae54-7a2e-495c-935e-c7e12c874103"
      },
      "outputs": [
        {
          "name": "stdout",
          "output_type": "stream",
          "text": [
            "Object `df.head(10)` not found.\n"
          ]
        }
      ],
      "source": [
        "?df.head(10)\n"
      ]
    },
    {
      "cell_type": "code",
      "execution_count": null,
      "metadata": {
        "id": "bWTk9PO4-nEM"
      },
      "outputs": [],
      "source": [
        "df.tail()"
      ]
    },
    {
      "cell_type": "code",
      "execution_count": null,
      "metadata": {
        "id": "-Z2EsR6UEziT"
      },
      "outputs": [],
      "source": [
        "df.columns\n"
      ]
    },
    {
      "cell_type": "code",
      "execution_count": null,
      "metadata": {
        "id": "RDXtqLXfE3TS"
      },
      "outputs": [],
      "source": [
        "df.attrs\n"
      ]
    },
    {
      "cell_type": "code",
      "execution_count": null,
      "metadata": {
        "id": "X0gb5tymFCue"
      },
      "outputs": [],
      "source": [
        "df.value_counts\n"
      ]
    },
    {
      "cell_type": "code",
      "execution_count": null,
      "metadata": {
        "id": "AYmbSbctFMsT"
      },
      "outputs": [],
      "source": [
        "df.value\n"
      ]
    },
    {
      "cell_type": "code",
      "execution_count": null,
      "metadata": {
        "id": "9xwfLt_6Gwcn"
      },
      "outputs": [],
      "source": [
        "import pandas as pd"
      ]
    },
    {
      "cell_type": "code",
      "execution_count": null,
      "metadata": {
        "id": "2dxLLsdSGivj"
      },
      "outputs": [],
      "source": [
        "pd.Series([1,2,3,4,5])"
      ]
    },
    {
      "cell_type": "code",
      "execution_count": null,
      "metadata": {
        "id": "k90V-3CnIKOw"
      },
      "outputs": [],
      "source": [
        "pd.Series([range(1,10)])"
      ]
    },
    {
      "cell_type": "code",
      "execution_count": null,
      "metadata": {
        "id": "ERJdISB7I6md"
      },
      "outputs": [],
      "source": [
        "df.iloc[10]"
      ]
    },
    {
      "cell_type": "code",
      "execution_count": null,
      "metadata": {
        "id": "JKTr0hUqVW2x"
      },
      "outputs": [],
      "source": [
        "df.value"
      ]
    },
    {
      "cell_type": "code",
      "execution_count": null,
      "metadata": {
        "id": "J8_7Z0ZThIaQ"
      },
      "outputs": [],
      "source": [
        "df.attrs"
      ]
    },
    {
      "cell_type": "code",
      "execution_count": null,
      "metadata": {
        "id": "tS02I-pNixDl"
      },
      "outputs": [],
      "source": [
        " from sklearn import datasets"
      ]
    },
    {
      "cell_type": "code",
      "execution_count": null,
      "metadata": {
        "id": "PgVdPJMwjSqH"
      },
      "outputs": [],
      "source": [
        "ds=datasets.load_iris()\n"
      ]
    },
    {
      "cell_type": "code",
      "execution_count": null,
      "metadata": {
        "collapsed": true,
        "id": "7oYsAuaYjc7B"
      },
      "outputs": [],
      "source": [
        "ds.feature_names\n",
        "ds.data\n",
        "ds.target_names\n",
        "ds.target\n",
        "print(ds.DESCR)"
      ]
    },
    {
      "cell_type": "code",
      "execution_count": null,
      "metadata": {
        "id": "gXAQIXY3nuaw"
      },
      "outputs": [],
      "source": [
        "import pandas as pd\n",
        "target_names = ds.target_names\n",
        "targets = ds.target\n",
        "target_series = pd.Series(targets)\n",
        "target_series = target_series.replace({0:target_names[0],1:target_names[1],2:target_names[2]})"
      ]
    },
    {
      "cell_type": "code",
      "execution_count": null,
      "metadata": {
        "collapsed": true,
        "id": "rsgbS5F2xus0"
      },
      "outputs": [],
      "source": [
        "# ds.data[10,0]\n",
        "# ds.data[10,0:3]\n",
        "ds.data[1:5,:3]\n",
        "# ds.target[0]\n",
        "# target_series[60:70]"
      ]
    },
    {
      "cell_type": "code",
      "execution_count": null,
      "metadata": {
        "id": "Z24mtJSlz_Bt"
      },
      "outputs": [],
      "source": [
        "from sklearn.datasets import make_regression\n",
        "# X,y=make_regression(n_samples=20, n_features=3,noise=0.1)\n",
        "# X.shape\n",
        "# X.dtype"
      ]
    },
    {
      "cell_type": "code",
      "execution_count": null,
      "metadata": {
        "id": "bdPCLWP92B6M"
      },
      "outputs": [],
      "source": [
        "from sklearn.datasets import make_classification\n",
        "X,y=make_classification(n_samples=20, n_features=5,n_classes=2)\n",
        "X.shape\n",
        "X.dtype"
      ]
    },
    {
      "cell_type": "code",
      "execution_count": null,
      "metadata": {
        "id": "Fs8SLxSzEYYV"
      },
      "outputs": [],
      "source": [
        "import numpy as np\n",
        "import matplotlib.pyplot as plt\n",
        "from sklearn.linear_model import LinearRegression\n",
        "from sklearn.metrics import mean_squared_error, r2_score"
      ]
    },
    {
      "cell_type": "code",
      "execution_count": null,
      "metadata": {
        "id": "v8YHkD0dFTiy"
      },
      "outputs": [],
      "source": [
        "X = np.array([24,38,41,72,58,82,124]).reshape(-1,1)\n",
        "y = np.array([2,3,4,5,6,7,8])\n",
        "model=LinearRegression()\n",
        "model.fit(X, y)\n",
        "print(f\"model intercept:{model.intercept_}\")\n",
        "print(f\"model conf:{model.coef_}\")\n",
        "y_pred=model.predict(X)\n",
        "mse=mean_squared_error(y,y_pred)\n",
        "r2=r2_score(y,y_pred)\n",
        "print(f\"R-squared:{r2}\")"
      ]
    },
    {
      "cell_type": "code",
      "execution_count": null,
      "metadata": {
        "id": "iGhscnN4FwIg"
      },
      "outputs": [],
      "source": []
    },
    {
      "cell_type": "code",
      "execution_count": null,
      "metadata": {
        "id": "mSblrYU_GqZp"
      },
      "outputs": [],
      "source": []
    },
    {
      "cell_type": "code",
      "execution_count": null,
      "metadata": {
        "id": "t-xM7_jtaUdD"
      },
      "outputs": [],
      "source": []
    },
    {
      "cell_type": "code",
      "execution_count": null,
      "metadata": {
        "id": "49qeiWEzagz0"
      },
      "outputs": [],
      "source": [
        "# print(y)\n",
        "# print(y_pred)"
      ]
    },
    {
      "cell_type": "code",
      "execution_count": null,
      "metadata": {
        "id": "obhEsAl6fDpJ"
      },
      "outputs": [],
      "source": []
    },
    {
      "cell_type": "code",
      "execution_count": null,
      "metadata": {
        "id": "ISP_i415fPrp"
      },
      "outputs": [],
      "source": []
    },
    {
      "cell_type": "code",
      "execution_count": null,
      "metadata": {
        "id": "XWPRIF2Sgk1t"
      },
      "outputs": [],
      "source": [
        "print(f\"Mean Squared Error:{mse}\")\n"
      ]
    },
    {
      "cell_type": "code",
      "execution_count": null,
      "metadata": {
        "id": "M0E-JiGUmobr"
      },
      "outputs": [],
      "source": [
        "new_X=np.array([52,96,32,41,79,62]).reshape(-1,1)\n"
      ]
    },
    {
      "cell_type": "code",
      "execution_count": null,
      "metadata": {
        "id": "5yfqWJswnI2B"
      },
      "outputs": [],
      "source": [
        "predicted_y=model.predict(new_X)\n",
        "print(f\"X and y:\\n{new_X}==> {predicted_y}\")"
      ]
    },
    {
      "cell_type": "code",
      "execution_count": null,
      "metadata": {
        "id": "uonxSRiNrS9S"
      },
      "outputs": [],
      "source": [
        "plt.scatter(X,y,color='blue')\n",
        "\n",
        "plt.plot(X,y_pred,color='red')\n",
        "\n",
        "plt.scatter(new_X,predicted_y,color='green')\n",
        "\n",
        "plt.xlabel('X values')\n",
        "plt.ylabel('y value')\n",
        "plt.title('Single variable linear regression')\n",
        "plt.legend(['Real data','Estimated line','New data'])\n",
        "plt.grid(True)"
      ]
    },
    {
      "cell_type": "code",
      "execution_count": null,
      "metadata": {
        "id": "RRDf18yOcmtl"
      },
      "outputs": [],
      "source": [
        "# //////////////////////////////////////////////////////////////////////////////////////////////"
      ]
    },
    {
      "cell_type": "code",
      "execution_count": null,
      "metadata": {
        "id": "ipDhUQGPBMJv"
      },
      "outputs": [],
      "source": [
        "# video 17"
      ]
    },
    {
      "cell_type": "code",
      "execution_count": null,
      "metadata": {
        "id": "sKv_psB-BWj8"
      },
      "outputs": [],
      "source": [
        "import numpy as np\n",
        "import matplotlib.pyplot as plt"
      ]
    },
    {
      "cell_type": "code",
      "execution_count": null,
      "metadata": {
        "id": "CpLssz5_ETWs"
      },
      "outputs": [],
      "source": [
        "def normal_equation(X,y):\n",
        "  return np.linalg.inv(X.T @ X) @ X.T @ y\n"
      ]
    },
    {
      "cell_type": "code",
      "execution_count": null,
      "metadata": {
        "id": "JlNOwHEuFHOH"
      },
      "outputs": [],
      "source": [
        "def mean_squared_error(y_true, y_pred):\n",
        "  return np.mean((y_true - y_pred)** 2)"
      ]
    },
    {
      "cell_type": "code",
      "execution_count": null,
      "metadata": {
        "id": "RA3xRFhbFiF-"
      },
      "outputs": [],
      "source": [
        "def r2_score(y_true, y_pred):\n",
        "  ss_residual=np.sum((y_true - y_pred)**2)\n",
        "  ss_total=np.sum((y_true - np.mean(y_true))**2)\n",
        "  return 1 - (ss_residual/ss_total)"
      ]
    },
    {
      "cell_type": "code",
      "execution_count": null,
      "metadata": {
        "id": "4FkFQWIqHOs-"
      },
      "outputs": [],
      "source": [
        "X=np.array([24,38,41,72,58,82,124]).reshape(-1,1)\n",
        "y=np.array([2,3,4,5,6,7,8])"
      ]
    },
    {
      "cell_type": "code",
      "execution_count": null,
      "metadata": {
        "id": "sA4PHr4xIYB6"
      },
      "outputs": [],
      "source": [
        "# X=np.c_[np.ones((X.shape[0],1)),X]\n",
        "X=np.c_[np.ones((X.shape[0],1)),X]\n"
      ]
    },
    {
      "cell_type": "code",
      "execution_count": null,
      "metadata": {
        "id": "agMtlzs_LqHj"
      },
      "outputs": [],
      "source": [
        "theta = normal_equation(X,y)"
      ]
    },
    {
      "cell_type": "code",
      "execution_count": null,
      "metadata": {
        "id": "DarOZ0eYLzCs"
      },
      "outputs": [],
      "source": [
        "print(f\"Thetas:{theta}\")"
      ]
    },
    {
      "cell_type": "code",
      "execution_count": null,
      "metadata": {
        "id": "Mi6jc22F9PH-"
      },
      "outputs": [],
      "source": [
        "y_pred=np.dot(X,theta)"
      ]
    },
    {
      "cell_type": "code",
      "execution_count": null,
      "metadata": {
        "id": "hXwaYwg3MiUX"
      },
      "outputs": [],
      "source": [
        "mse = mean_squared_error(y, y_pred)\n",
        "r2 = r2_score(y, y_pred)"
      ]
    },
    {
      "cell_type": "code",
      "execution_count": null,
      "metadata": {
        "id": "WA7VJ0ggM4Ck"
      },
      "outputs": [],
      "source": [
        "print(f\"Mean Squared Error:{mse}\")\n",
        "print(f\"R-squared:{r2}\")"
      ]
    },
    {
      "cell_type": "code",
      "execution_count": null,
      "metadata": {
        "id": "tjRkHBeW8P7q"
      },
      "outputs": [],
      "source": [
        "new_X = np.array([52,10,96,32,41,79]).reshape(-1,1)\n",
        "new_X=np.c_[np.ones((new_X.shape[0],1)),new_X]\n",
        "predicted_y=np.dot(new_X, theta)\n",
        "\n",
        "\n",
        "\n",
        "plt.scatter(X[:,1],y,color='blue')\n",
        "plt.plot(X[:,1],y_pred,color='red')\n",
        "plt.scatter(new_X[:,1],predicted_y,color='green')\n",
        "\n",
        "plt.xlabel('X vales')\n",
        "plt.ylabel('y vales')\n",
        "plt.title('Single variable linear regression')\n",
        "plt.legend(['Real data','Estimated line','New data'])\n",
        "plt.grid(True)\n",
        "plt.show()"
      ]
    },
    {
      "cell_type": "code",
      "execution_count": null,
      "metadata": {
        "id": "rkVCBw_Ko1o6"
      },
      "outputs": [],
      "source": [
        "# !!!!!!!!!!!!!!!!!!!!!!!!!!!!"
      ]
    },
    {
      "cell_type": "code",
      "execution_count": null,
      "metadata": {
        "id": "DN6m7dS4o-S2"
      },
      "outputs": [],
      "source": [
        "# vedio 19"
      ]
    },
    {
      "cell_type": "code",
      "execution_count": null,
      "metadata": {
        "id": "vB50F-ZopIYj"
      },
      "outputs": [],
      "source": [
        "import numpy as np\n",
        "import matplotlib.pyplot as plt\n",
        "from sklearn.linear_model import LinearRegression\n",
        "from sklearn.metrics import mean_squared_error, r2_score"
      ]
    },
    {
      "cell_type": "code",
      "execution_count": null,
      "metadata": {
        "id": "36NzVVETq5gA"
      },
      "outputs": [],
      "source": [
        "np.random.seed(42)\n",
        "X1 = 2 * np.random.rand(100,1)\n",
        "X2 = 3 * np.random.rand(100,1)\n",
        "y = 4 + 3 * X1 + 5 * X2 + np.random.randn(100,1)"
      ]
    },
    {
      "cell_type": "code",
      "execution_count": null,
      "metadata": {
        "id": "xTo16E1J7gJM"
      },
      "outputs": [],
      "source": [
        "X=np.hstack((X1,X2))\n",
        "# X.shape"
      ]
    },
    {
      "cell_type": "code",
      "execution_count": null,
      "metadata": {
        "id": "r-JBt7MG77ga"
      },
      "outputs": [],
      "source": [
        "model= LinearRegression()"
      ]
    },
    {
      "cell_type": "code",
      "execution_count": null,
      "metadata": {
        "collapsed": true,
        "id": "flzyDVrB8CaC"
      },
      "outputs": [],
      "source": [
        "model.fit(X,y)"
      ]
    },
    {
      "cell_type": "code",
      "execution_count": null,
      "metadata": {
        "id": "TZroxfzw8mgF"
      },
      "outputs": [],
      "source": [
        "y_pred=model.predict(X)"
      ]
    },
    {
      "cell_type": "code",
      "execution_count": null,
      "metadata": {
        "id": "IueBIs5A8xRd"
      },
      "outputs": [],
      "source": [
        "mse=mean_squared_error(y,y_pred)\n",
        "r2=r2_score(y,y_pred)"
      ]
    },
    {
      "cell_type": "code",
      "execution_count": null,
      "metadata": {
        "id": "X87XsCMSGjTf"
      },
      "outputs": [],
      "source": [
        "print(f\"Mean Squared Error :{mse}\")\n",
        "print(f\"R-squared : {r2}\")\n",
        "# print(f\"model colnf : {model.coet_}\")\n",
        "# print(f\"modefl intercept:{model.intercept_}\")"
      ]
    },
    {
      "cell_type": "code",
      "execution_count": null,
      "metadata": {
        "id": "wMmmJctyHwfT"
      },
      "outputs": [],
      "source": [
        "X_new1=np.array([[1.75],[1.21]])\n",
        "X_new2=np.array([[1.2],[2.86]])\n",
        "\n",
        "X_new=np.hstack((X_new1,X_new2))\n",
        "y_new_pred=model.predict(X_new)\n"
      ]
    },
    {
      "cell_type": "code",
      "execution_count": null,
      "metadata": {
        "id": "skydUUyLrJcq"
      },
      "outputs": [],
      "source": [
        "print(\"Predictions for new data:\")\n",
        "for i in range(len(X_new)):\n",
        "  print(f\"Features:{X_new[i]},Prediction:{y_new_pred[i]}\")"
      ]
    },
    {
      "cell_type": "code",
      "execution_count": null,
      "metadata": {
        "id": "JdwEccNaMVO5"
      },
      "outputs": [],
      "source": [
        "fig=plt.figure()\n",
        "ax=fig.add_subplot(111,projection='3d')\n",
        "\n",
        "ax.scatter(X[:,0],X[:,1],y,color='blue')\n",
        "\n",
        "ax.scatter(X_new[:,0], X_new[:,1], y_new_pred, color='green')\n",
        "\n",
        "ax.plot_trisurf(X[:,0].flatten(), X[:,1].flatten(), y_pred.flatten(),color='#ff0',alpha=0.5)"
      ]
    },
    {
      "cell_type": "code",
      "execution_count": null,
      "metadata": {
        "id": "mPputDHzpDnA"
      },
      "outputs": [],
      "source": []
    },
    {
      "cell_type": "code",
      "execution_count": null,
      "metadata": {
        "id": "UokJnLdnr_Vn"
      },
      "outputs": [],
      "source": [
        "ax.scatter(X[:,0],X[:,1],y,color='blue')"
      ]
    },
    {
      "cell_type": "code",
      "execution_count": null,
      "metadata": {
        "id": "icVO8ex7pFgp"
      },
      "outputs": [],
      "source": [
        "# VIDEO20"
      ]
    },
    {
      "cell_type": "code",
      "execution_count": null,
      "metadata": {
        "colab": {
          "base_uri": "https://localhost:8080/"
        },
        "id": "Vji7mpT2I8IO",
        "outputId": "63a186e0-c80c-48de-c676-cddcce65dc0b"
      },
      "outputs": [
        {
          "name": "stdout",
          "output_type": "stream",
          "text": [
            "Mounted at /content/drive\n"
          ]
        }
      ],
      "source": [
        "from google.colab import drive\n",
        "drive.mount('/content/drive')"
      ]
    },
    {
      "cell_type": "code",
      "execution_count": null,
      "metadata": {
        "colab": {
          "background_save": true
        },
        "id": "Whwn4zyVpoj-"
      },
      "outputs": [],
      "source": [
        "import pandas as pd\n",
        "import matplotlib.pyplot as plt\n",
        "import numpy as np\n",
        "import seaborn as sns\n",
        "from sklearn.pipeline import Pipeline\n",
        "from sklearn.preprocessing import StandardScaler,PolynomialFeatures\n",
        "from sklearn.linear_model import LinearRegression\n",
        "%matplotlib inline"
      ]
    },
    {
      "cell_type": "code",
      "execution_count": null,
      "metadata": {
        "colab": {
          "background_save": true
        },
        "id": "dELuBmW4pTx8"
      },
      "outputs": [],
      "source": [
        "df=pd.read_csv('king_county_house_data.csv')"
      ]
    },
    {
      "cell_type": "code",
      "execution_count": null,
      "metadata": {
        "id": "JwdCIOUyqKBo"
      },
      "outputs": [],
      "source": [
        "# df.head()\n",
        "# df.shape\n",
        "# df.columns\n",
        "# df.dtypes\n",
        "# df.nunique()\n",
        "# df.info()\n",
        "# df.describe()\n",
        "# df.isnull().sum()\n",
        "# df.corr()\n",
        "# df.value_counts().to_frame()\n",
        "# df[\"floors\"].value_counts().to_frame()"
      ]
    },
    {
      "cell_type": "code",
      "execution_count": null,
      "metadata": {
        "id": "cvnNlPYScU_d"
      },
      "outputs": [],
      "source": [
        "sns.boxplot(x=\"waterfront\",y=\"price\",data=df)"
      ]
    },
    {
      "cell_type": "code",
      "execution_count": null,
      "metadata": {
        "colab": {
          "base_uri": "https://localhost:8080/",
          "height": 1000
        },
        "id": "-57b6nRJfbXd",
        "outputId": "281485f3-20d1-4ff5-c109-4abc46e757d8"
      },
      "outputs": [
        {
          "output_type": "execute_result",
          "data": {
            "text/plain": [
              "<Axes: >"
            ]
          },
          "metadata": {},
          "execution_count": 20
        },
        {
          "output_type": "display_data",
          "data": {
            "text/plain": [
              "<Figure size 1500x1500 with 1 Axes>"
            ],
            "image/png": "[encoded data removed]"
          },
          "metadata": {}
        }
      ],
      "source": [
        "plt.figure(figsize=(15,15))\n",
        "sns.heatmap(df.corr(numeric_only=True),cbar=False,square=True,fmt='.1f',annot=True,annot_kws={'size':10},cmap='Reds')"
      ]
    },
    {
      "cell_type": "code",
      "execution_count": null,
      "metadata": {
        "id": "v-SPuZ8O6eaU"
      },
      "outputs": [],
      "source": [
        "# تمرین 1 ترم 5"
      ]
    },
    {
      "cell_type": "code",
      "execution_count": 1,
      "metadata": {
        "colab": {
          "base_uri": "https://localhost:8080/"
        },
        "id": "bq6sV3qQ6ItJ",
        "outputId": "eef240c5-5032-4138-d899-070d019739da"
      },
      "outputs": [
        {
          "output_type": "stream",
          "name": "stdout",
          "text": [
            "Mounted at /content/drive\n"
          ]
        }
      ],
      "source": [
        "from google.colab import drive\n",
        "drive.mount('/content/drive')"
      ]
    },
    {
      "cell_type": "code",
      "execution_count": 2,
      "metadata": {
        "id": "ULYpY0V86lFL",
        "colab": {
          "base_uri": "https://localhost:8080/"
        },
        "outputId": "cdc09e09-e3b3-4a75-a21c-8bb95ff26369"
      },
      "outputs": [
        {
          "output_type": "execute_result",
          "data": {
            "text/plain": [
              "41"
            ]
          },
          "metadata": {},
          "execution_count": 2
        }
      ],
      "source": [
        "import pandas as pd\n",
        "import matplotlib.pyplot as plt\n",
        "import numpy as np\n",
        "import seaborn as sns\n",
        "from sklearn.pipeline import Pipeline\n",
        "from sklearn.model_selection import train_test_split\n",
        "from sklearn.metrics import r2_score\n",
        "from sklearn.preprocessing import StandardScaler,PolynomialFeatures\n",
        "%matplotlib inline\n",
        "from sklearn.linear_model import LinearRegression\n",
        "%matplotlib inline\n",
        "import numpy as np\n",
        "import pandas as pd\n",
        "import matplotlib.pyplot as plt\n",
        "from sklearn.linear_model import LinearRegression\n",
        "from sklearn.model_selection import train_test_split\n",
        "from sklearn.linear_model import Ridge\n",
        "from sklearn.linear_model import Lasso\n",
        "from sklearn.linear_model import ElasticNet\n",
        "import seaborn as sns\n",
        "from sklearn import preprocessing\n",
        "\n",
        "41"
      ]
    },
    {
      "cell_type": "code",
      "execution_count": null,
      "metadata": {
        "id": "byHLrRJX6Ky4"
      },
      "outputs": [],
      "source": [
        "df=pd.read_csv('loans.csv', index_col='client_id')\n",
        "df.head()\n"
      ]
    },
    {
      "cell_type": "code",
      "execution_count": null,
      "metadata": {
        "id": "zEtPKZKP5oAn"
      },
      "outputs": [],
      "source": [
        "df.head(5)\n",
        "df.shape()\n",
        "df.columns\n",
        "df.dtypes\n",
        "df.nunique()\n",
        "df.info()\n",
        "df.describe()\n",
        "df.describe(exclude=[np.number])\n",
        "df.isnull().sum()\n",
        "df.corr()\n",
        "# df.value_counts().to_frame()\n",
        "# df[\"loan_amount\"].value_counts().to_frame()"
      ]
    },
    {
      "cell_type": "code",
      "execution_count": null,
      "metadata": {
        "id": "m-QLHP8AMW90"
      },
      "outputs": [],
      "source": [
        "# حذف ستونهای غیر ضرروی\n",
        "# df.drop(columns=['client_id','loan_id'])\n",
        "df=df.drop([\"loan_id\"], axis=1)\n",
        "df.head()"
      ]
    },
    {
      "cell_type": "code",
      "execution_count": null,
      "metadata": {
        "id": "jDcTV88uRsxq"
      },
      "outputs": [],
      "source": [
        "df['repaid'] = df['repaid'].astype('category')\n",
        "df['loan_type'] = df['loan_type'].astype('category')\n",
        "\n",
        "df['loan_start'] = pd.to_datetime(df['loan_start'])\n",
        "df['loan_end'] = pd.to_datetime(df['loan_end'])\n",
        "print(df.dtypes)"
      ]
    },
    {
      "cell_type": "code",
      "execution_count": null,
      "metadata": {
        "id": "XBOJoUIlRAFz"
      },
      "outputs": [],
      "source": [
        "# پیدا کردن ولیوهای گم شده\n",
        "# اول ستونههای عددی را بیرون میکشیم\n",
        "df_numeric_features=df.select_dtypes(include=['number'])\n",
        "print(f\"Numeric Features :\\n{df_numeric_features}\\n\")\n",
        "\n",
        "df_catagory_features=df.select_dtypes(include=[\"category\"])\n",
        "print(f\"Catigorical Features :\\n{df_catagory_features}\\n\")\n",
        "\n",
        "df_datetime_features=df.select_dtypes(include=['datetime'])\n",
        "print(f\"DateTime Features :\\n{df_datetime_features}\\n\")\n",
        "\n",
        "df_object_features=df.select_dtypes(include=['object'])\n",
        "print(f\"object Features :\\n{df_object_features}\\n\")\n"
      ]
    },
    {
      "cell_type": "code",
      "execution_count": 13,
      "metadata": {
        "id": "chjA7tciloba"
      },
      "outputs": [],
      "source": [
        "# پیدا کردن ولیوهای گم شده\n",
        "from sklearn.impute import SimpleImputer\n",
        "# داده های عددی را پیدا کرد\n",
        "imputer1 = SimpleImputer(strategy='mean')\n",
        "df_numeric_features = pd.DataFrame(imputer1.fit_transform(df_numeric_features),columns=df_numeric_features.columns)\n",
        "# دادهای کت گری را پیدا کرد\n",
        "imputer2 = SimpleImputer(strategy='most_frequent')\n",
        "df_catagory_features = pd.DataFrame(imputer2.fit_transform(df_catagory_features),columns=df_catagory_features.columns)"
      ]
    },
    {
      "cell_type": "code",
      "execution_count": 16,
      "metadata": {
        "id": "ht6iGx_dn38E"
      },
      "outputs": [],
      "source": [
        "# ستونهای مربوط به تاریخ و زمان را پیدا کرد\n",
        "most_frequent_date = df_datetime_features['loan_start'].mode()[0]\n",
        "df_datetime_features['loan_start']=df_datetime_features['loan_start'].fillna(most_frequent_date)\n",
        "\n",
        "most_frequent_date= df_datetime_features['loan_end'].mode()[0]\n",
        "df_datetime_features['loan_end']=df_datetime_features['loan_end'].fillna(most_frequent_date)"
      ]
    },
    {
      "cell_type": "code",
      "source": [
        "# چسپاندن سه دیتافریم بالا به هم)(عددی و کته گری و تاریخی)\n",
        "df_numeric_features.reset_index(drop=True, inplace=True)\n",
        "df_catagory_features.reset_index(drop=True, inplace=True)\n",
        "df_datetime_features.reset_index(drop=True, inplace=True)\n",
        "\n",
        "df = pd.concat([df_numeric_features, df_catagory_features,df_datetime_features], axis=1)\n",
        "df.head()"
      ],
      "metadata": {
        "id": "jZd2EMcNl3hs"
      },
      "execution_count": null,
      "outputs": []
    },
    {
      "cell_type": "code",
      "execution_count": 37,
      "metadata": {
        "id": "G7GtcXQtymnq",
        "colab": {
          "base_uri": "https://localhost:8080/",
          "height": 211
        },
        "outputId": "a610f9d9-da01-4217-b9fc-718b705fb152"
      },
      "outputs": [
        {
          "output_type": "error",
          "ename": "NameError",
          "evalue": "name 'column' is not defined",
          "traceback": [
            "\u001b[0;31m---------------------------------------------------------------------------\u001b[0m",
            "\u001b[0;31mNameError\u001b[0m                                 Traceback (most recent call last)",
            "\u001b[0;32m<ipython-input-37-1ee5d550b3f2>\u001b[0m in \u001b[0;36m<cell line: 14>\u001b[0;34m()\u001b[0m\n\u001b[1;32m     13\u001b[0m \u001b[0;34m\u001b[0m\u001b[0m\n\u001b[1;32m     14\u001b[0m \u001b[0;32mfor\u001b[0m \u001b[0mi\u001b[0m\u001b[0;34m,\u001b[0m \u001b[0mcolunm\u001b[0m \u001b[0;32min\u001b[0m \u001b[0menumerate\u001b[0m\u001b[0;34m(\u001b[0m\u001b[0mdf_numeric_features\u001b[0m\u001b[0;34m.\u001b[0m\u001b[0mcolumns\u001b[0m\u001b[0;34m)\u001b[0m\u001b[0;34m:\u001b[0m\u001b[0;34m\u001b[0m\u001b[0;34m\u001b[0m\u001b[0m\n\u001b[0;32m---> 15\u001b[0;31m     \u001b[0moutliers\u001b[0m \u001b[0;34m=\u001b[0m \u001b[0mfind_outliers\u001b[0m\u001b[0;34m(\u001b[0m\u001b[0mdf_numeric_features\u001b[0m\u001b[0;34m[\u001b[0m\u001b[0mcolumn\u001b[0m\u001b[0;34m]\u001b[0m\u001b[0;34m)\u001b[0m\u001b[0;34m\u001b[0m\u001b[0;34m\u001b[0m\u001b[0m\n\u001b[0m\u001b[1;32m     16\u001b[0m     \u001b[0;32mif\u001b[0m\u001b[0;34m(\u001b[0m\u001b[0moutliers\u001b[0m\u001b[0;34m.\u001b[0m\u001b[0msize\u001b[0m\u001b[0;34m>\u001b[0m\u001b[0;36m0\u001b[0m\u001b[0;34m)\u001b[0m\u001b[0;34m:\u001b[0m\u001b[0;34m\u001b[0m\u001b[0;34m\u001b[0m\u001b[0m\n\u001b[1;32m     17\u001b[0m       \u001b[0mprint\u001b[0m\u001b[0;34m(\u001b[0m\u001b[0;34mf\"outliers - {column}:\\n{outliers}\"\u001b[0m\u001b[0;34m)\u001b[0m\u001b[0;34m\u001b[0m\u001b[0;34m\u001b[0m\u001b[0m\n",
            "\u001b[0;31mNameError\u001b[0m: name 'column' is not defined"
          ]
        }
      ],
      "source": [
        "# پیداکردن و برخورد با داده های پردت\n",
        "# مرحله اول پیدا کردن داده های پرت هست که به سه روش در اینجا انجام میشود\n",
        "# داده ای برت معمولا در ستونهای عددی هست هر چند امکان دارد رد ستونهای تاریخ و زمان هم باشد\n",
        "\n",
        "def find_outliers(column):\n",
        "    Q1 = column.quantile(0.25)\n",
        "    Q3 = column.quantile(0.75)\n",
        "    IQR = Q3 - Q1\n",
        "    lower_bound = Q1 - 1.5 * IQR\n",
        "    upper_bound = Q3 + 1.5 * IQR\n",
        "    return column[(column < lower_bound) | (column > upper_bound)]\n",
        "\n",
        "\n",
        "for i, colunm in enumerate(df_numeric_features.columns):\n",
        "    outliers = find_outliers(df_numeric_features[column])\n",
        "    if(outliers.size>0):\n",
        "      print(f\"outliers - {column}:\\n{outliers}\")\n"
      ]
    },
    {
      "cell_type": "code",
      "source": [
        "# پیداکردن و برخورد با داده های پردت\n",
        "# مرحله اول پیدا کردن داده های پرت هست که به سه روش در اینجا انجام میشود\n",
        "# داده ای برت معمولا در ستونهای عددی هست هر چند امکان دارد رد ستونهای تاریخ و زمان هم باشد\n",
        "\n",
        "def find_outliers(column):\n",
        "    Q1 = column.quantile(0.25)\n",
        "    Q3 = column.quantile(0.75)\n",
        "    IQR = Q3 - Q1\n",
        "    lower_bound = Q1 - 1.5 * IQR\n",
        "    upper_bound = Q3 + 1.5 * IQR\n",
        "    return column[(column < lower_bound) | (column > upper_bound)]\n",
        "\n",
        "\n",
        "for i, column in enumerate(df_numeric_features.columns):\n",
        "    outliers = find_outliers(df_numeric_features[column])\n",
        "    if(outliers.size>0):\n",
        "      print(f\"outliers - {column}:\\n{outliers}\")\n"
      ],
      "metadata": {
        "colab": {
          "base_uri": "https://localhost:8080/"
        },
        "id": "4UJYnWmD7EOC",
        "outputId": "194fa7f8-50c3-4b58-ade6-baff35ddf4f2"
      },
      "execution_count": 42,
      "outputs": [
        {
          "output_type": "stream",
          "name": "stdout",
          "text": [
            "outliers - rate:\n",
            "41     10.49\n",
            "195    10.89\n",
            "421    12.62\n",
            "Name: rate, dtype: float64\n"
          ]
        }
      ]
    },
    {
      "cell_type": "code",
      "execution_count": null,
      "metadata": {
        "collapsed": true,
        "id": "RXd7FZ7dSk92"
      },
      "outputs": [],
      "source": [
        "# بدست آوردن نال ها\n",
        "df.isnull().sum()"
      ]
    },
    {
      "cell_type": "code",
      "execution_count": null,
      "metadata": {
        "id": "ufYTFmMnOH1J"
      },
      "outputs": [],
      "source": [
        "# استاندارد سازی\n",
        "from sklearn.preprocessing import StandardScaler\n",
        "def standard_scaler(df):\n",
        "    scaler=StandardScaler()\n",
        "    df=scaler.fit_transform(df)\n",
        "    return df\n",
        "\n"
      ]
    },
    {
      "cell_type": "code",
      "execution_count": null,
      "metadata": {
        "id": "DAHa0ZmkPZ1U"
      },
      "outputs": [],
      "source": []
    },
    {
      "cell_type": "code",
      "execution_count": null,
      "metadata": {
        "id": "68Rp_YYNYZ6P"
      },
      "outputs": [],
      "source": [
        "# df.loan_end=pd.to_int(df.loan_end)\n",
        "# df.info()"
      ]
    },
    {
      "cell_type": "code",
      "execution_count": null,
      "metadata": {
        "id": "gR7L5DdV9Bpr"
      },
      "outputs": [],
      "source": [
        "# ایجاد همبستگی\n",
        "# df.corr(method='pearson',numeric_only=True)"
      ]
    },
    {
      "cell_type": "code",
      "execution_count": null,
      "metadata": {
        "id": "LD5o7NEC6r83"
      },
      "outputs": [],
      "source": [
        "X =df[['repaid']]\n",
        "y =df['rate']\n",
        "X_train,X_test,y_train,y_test=train_test_split(X,y,test_size=0.15,random_state=42)\n",
        "\n",
        "model=LinearRegression()\n",
        "model.fit(X_train, y_train)\n",
        "\n",
        "y_pred=model.predict(X_test)\n",
        "r2=r2_score(y_test,y_pred)\n",
        "print(f\"R-squared:{r2}\")"
      ]
    },
    {
      "cell_type": "code",
      "execution_count": null,
      "metadata": {
        "id": "_GJr1u5rAfu8"
      },
      "outputs": [],
      "source": [
        "X =df[['repaid']]\n",
        "y =df['rate']\n",
        "model=LinearRegression()\n",
        "model.fit(X, y)\n",
        "model.score(X, y)\n"
      ]
    },
    {
      "cell_type": "code",
      "execution_count": null,
      "metadata": {
        "id": "IJBt9OPJRd22"
      },
      "outputs": [],
      "source": [
        "features=['loan_type','loan_amount','loan_start','loan_end']\n",
        "X =df[['repaid']]\n",
        "y =df['rate']\n",
        "X_train,X_test,y_train,y_test=train_test_split(X,y,test_size=0.15,random_state=42)\n",
        "\n",
        "model=LinearRegression()\n",
        "model.fit(X_train, y_train)\n",
        "\n",
        "y_pred=model.predict(X_test)\n",
        "r2=r2_score(y_test,y_pred)\n",
        "print(f\"R-squared:{r2}\")"
      ]
    },
    {
      "cell_type": "code",
      "execution_count": null,
      "metadata": {
        "id": "gELQPMZ1nEKy"
      },
      "outputs": [],
      "source": [
        "features=['loan_type','loan_amount','loan_start','loan_end']\n",
        "X =df[['repaid']]\n",
        "y =df['rate']\n",
        "X_train,X_test,y_train,y_test=train_test_split(X,y,test_size=0.15,random_state=42)\n",
        "\n",
        "model=LinearRegression()\n",
        "pf=PolynomialFeatures(degree=3)\n",
        "X_train_poly=pf.fit_transform(X_train)\n",
        "X_test_poly=pf.fit_transform(X_test)\n",
        "model.fit(X_train_poly, y_train)\n",
        "model.score(X_test_poly,y_test)"
      ]
    },
    {
      "cell_type": "code",
      "execution_count": null,
      "metadata": {
        "collapsed": true,
        "id": "1x406Ku0WpCW"
      },
      "outputs": [],
      "source": [
        "sns.boxplot(x=\"rate\",y=\"repaid\",data=df)"
      ]
    },
    {
      "cell_type": "code",
      "execution_count": null,
      "metadata": {
        "id": "vCjI7VfZIHSB"
      },
      "outputs": [],
      "source": [
        "# %%%%%%%%%%%%%%%%%%%%%%%%%%%%%%%%%%%%%%%%%%%%%%%%%%%%%%%%%%%"
      ]
    },
    {
      "cell_type": "code",
      "execution_count": null,
      "metadata": {
        "id": "camNW0YIIHHi"
      },
      "outputs": [],
      "source": []
    },
    {
      "cell_type": "code",
      "execution_count": null,
      "metadata": {
        "id": "-r0Tdy7wIG8v"
      },
      "outputs": [],
      "source": []
    },
    {
      "cell_type": "code",
      "execution_count": null,
      "metadata": {
        "id": "DRf0kojPIGwi"
      },
      "outputs": [],
      "source": [
        "# print(f\"model intercept:{model.intercept_}\")\n",
        "# print(f\"model conf:{model.coef_}\")\n",
        "# mse=mean_squared_error(y,y_pred)\n"
      ]
    },
    {
      "cell_type": "code",
      "execution_count": null,
      "metadata": {
        "id": "YUMLjN5tIGhM"
      },
      "outputs": [],
      "source": [
        "# درس 25"
      ]
    },
    {
      "cell_type": "code",
      "execution_count": null,
      "metadata": {
        "colab": {
          "background_save": true
        },
        "collapsed": true,
        "id": "QkLYM-93JQv-"
      },
      "outputs": [],
      "source": [
        "from google.colab import drive\n",
        "drive.mount('/content/drive')"
      ]
    },
    {
      "cell_type": "code",
      "execution_count": null,
      "metadata": {
        "id": "2mar_WrWIM3f"
      },
      "outputs": [],
      "source": [
        "import numpy as np\n",
        "import pandas as pd\n",
        "import matplotlib.pyplot as plt\n",
        "from sklearn.linear_model import LinearRegression\n",
        "from sklearn.model_selection import train_test_split\n",
        "from sklearn.metrics import r2_score\n",
        "from sklearn.linear_model import Ridge\n",
        "from sklearn.linear_model import Lasso\n",
        "from sklearn.linear_model import ElasticNet\n",
        "import seaborn as sns\n",
        "from sklearn import preprocessing\n",
        "%matplotlib inline"
      ]
    },
    {
      "cell_type": "code",
      "execution_count": null,
      "metadata": {
        "id": "7OCnahxiJFQy"
      },
      "outputs": [],
      "source": [
        "df=pd.read_csv('auto-mpg.csv')\n",
        "df.head(5)\n"
      ]
    },
    {
      "cell_type": "code",
      "execution_count": null,
      "metadata": {
        "cellView": "form",
        "id": "QReovKYnuo5g"
      },
      "outputs": [],
      "source": [
        "# from google.colab import sheets\n",
        "# sheet = sheets.InteractiveSheet(df=df)"
      ]
    },
    {
      "cell_type": "code",
      "execution_count": null,
      "metadata": {
        "collapsed": true,
        "id": "llvtDKi_M-2a"
      },
      "outputs": [],
      "source": [
        "df.head()\n",
        "df.shape\n",
        "df.columns\n",
        "df.dtypes\n",
        "df.duplicated().sum()\n",
        "df.nunique()\n",
        "df.cylinders.nunique()\n",
        "df.info()\n",
        "df.describe()\n",
        "df.isnull().sum()\n",
        "df.corr(numeric_only=True)\n",
        "df['cylinders'].value_counts()\n",
        "df['displacement'].value_counts().to_frame()\n",
        "(df['horsepower'].str.isnumeric()==False).sum()\n",
        "(df['horsepower']=='?').sum()\n",
        "(df==\"?\").sum()\n",
        "df[df['horsepower']=='?']\n",
        "\n",
        "df[df['origin']==1].shape\n",
        "df[df['origin']==2].shape\n",
        "df[df['origin']==3].shape\n",
        "# df.value_counts().to_frame()\n",
        "# df[\"floors\"].value_counts().to_frame()"
      ]
    },
    {
      "cell_type": "code",
      "execution_count": null,
      "metadata": {
        "id": "oTlGzqkEPIbG"
      },
      "outputs": [],
      "source": [
        "df=df.replace('?',np.nan)"
      ]
    },
    {
      "cell_type": "code",
      "execution_count": null,
      "metadata": {
        "collapsed": true,
        "id": "2zwIutr5hjoJ"
      },
      "outputs": [],
      "source": [
        "df=df.drop('car name',axis=1)\n",
        "df.head()"
      ]
    },
    {
      "cell_type": "code",
      "execution_count": null,
      "metadata": {
        "collapsed": true,
        "id": "1jEvASMPPSKi"
      },
      "outputs": [],
      "source": [
        "df=df.drop('car name',axis=1)\n",
        "df.head()"
      ]
    },
    {
      "cell_type": "code",
      "execution_count": null,
      "metadata": {
        "collapsed": true,
        "id": "4qZSWYpdPkEQ"
      },
      "outputs": [],
      "source": [
        "df=df.apply(lambda X: X.fillna(X.median()),axis=0)"
      ]
    },
    {
      "cell_type": "code",
      "execution_count": null,
      "metadata": {
        "id": "Qc68i23shRXR"
      },
      "outputs": [],
      "source": []
    },
    {
      "cell_type": "code",
      "execution_count": null,
      "metadata": {
        "collapsed": true,
        "id": "u7wPF0QoQK5i"
      },
      "outputs": [],
      "source": [
        "df[\"horsepower\"] = df[\"horsepower\"].astype(int)\n",
        "df.dtypes"
      ]
    },
    {
      "cell_type": "code",
      "execution_count": null,
      "metadata": {
        "id": "ovuY_omYQoHr"
      },
      "outputs": [],
      "source": [
        "plt.figure(figsize=(15,8))\n",
        "corr=df.corr()\n",
        "mask=np.triu(corr)\n",
        "sns.heatmap(corr,square=True,mask=mask,annot=True,fmt='.2f')\n",
        "plt.show()"
      ]
    },
    {
      "cell_type": "code",
      "execution_count": null,
      "metadata": {
        "id": "0b_z2amXSzQF"
      },
      "outputs": [],
      "source": [
        "plt.figure(figsize=(10,5))\n",
        "ax=sns.countplot(data=df,x='origin')\n",
        "ax.bar_label(ax.containers[0],label_type='edge')\n",
        "plt.title(\"origin distribution\")\n",
        "plt.xlabel(\"origin\")\n",
        "plt.ylabel(\"car count\")\n",
        "plt.show()"
      ]
    },
    {
      "cell_type": "code",
      "execution_count": null,
      "metadata": {
        "id": "kGD4vn7fUU8-"
      },
      "outputs": [],
      "source": [
        "plt.figure(figsize=(10,5))\n",
        "sns.pointplot(x='model year',y = 'mpg',hue='origin',data=df,errorbar=None);\n",
        "plt.title(\"model year - mpg based on origin\")\n",
        "plt.xlabel(\"model year\")\n",
        "plt.ylabel(\"mpg\")\n",
        "plt.show()"
      ]
    },
    {
      "cell_type": "code",
      "execution_count": null,
      "metadata": {
        "id": "iJ3wqQSqb38E"
      },
      "outputs": [],
      "source": [
        "X=df.drop('mpg',axis=1)\n",
        "y=df[['mpg']]\n",
        "X.shape\n",
        "y.shape"
      ]
    },
    {
      "cell_type": "code",
      "execution_count": null,
      "metadata": {
        "id": "_uXTx3hJcNko"
      },
      "outputs": [],
      "source": [
        "X_train,X_test,y_train,y_test=train_test_split(X,y,test_size=0.2,random_state=1)\n"
      ]
    },
    {
      "cell_type": "code",
      "execution_count": null,
      "metadata": {
        "collapsed": true,
        "id": "AHwM4IR5cwcx"
      },
      "outputs": [],
      "source": [
        "ridge = Ridge(alpha=0.2)\n",
        "ridge.fit(X_train,y_train)"
      ]
    },
    {
      "cell_type": "code",
      "execution_count": null,
      "metadata": {
        "collapsed": true,
        "id": "KaNjV2GTdMmj"
      },
      "outputs": [],
      "source": [
        "lasso=Lasso(alpha=0.5)\n",
        "lasso.fit(X_train,y_train)"
      ]
    },
    {
      "cell_type": "code",
      "execution_count": null,
      "metadata": {
        "collapsed": true,
        "id": "VuNIYR4bdmOt"
      },
      "outputs": [],
      "source": [
        "dlastec=ElastecNet(alpha=0.5,l1_ratio=0.2)\n",
        "elastic.fit(x_train,y_train)"
      ]
    },
    {
      "cell_type": "code",
      "execution_count": null,
      "metadata": {
        "collapsed": true,
        "id": "crtWzHzneCTm"
      },
      "outputs": [],
      "source": [
        "print(ridge.score(x_train,y_train))\n",
        "print(ridge.score(x_test,y_test))"
      ]
    },
    {
      "cell_type": "code",
      "execution_count": null,
      "metadata": {
        "collapsed": true,
        "id": "DdtS8VmYeheR"
      },
      "outputs": [],
      "source": [
        "print(lasso.score(x_train,y_train))\n",
        "print(lasso.score(x_test,y_rest))"
      ]
    },
    {
      "cell_type": "code",
      "execution_count": null,
      "metadata": {
        "id": "ZCk928LZ27tc"
      },
      "outputs": [],
      "source": [
        "print(lasso.score(x_train,y_train))\n",
        "print(lasso.score(x test,y_test))"
      ]
    },
    {
      "cell_type": "code",
      "execution_count": null,
      "metadata": {
        "id": "FslVWFf7fM9x"
      },
      "outputs": [],
      "source": [
        "# ///////////////////////////////////////////////////////"
      ]
    },
    {
      "cell_type": "code",
      "execution_count": null,
      "metadata": {
        "id": "gOiEeI4gfQJk"
      },
      "outputs": [],
      "source": [
        "# video 26"
      ]
    },
    {
      "cell_type": "code",
      "execution_count": null,
      "metadata": {
        "collapsed": true,
        "id": "7dOpPijMhMdp"
      },
      "outputs": [],
      "source": [
        "!pip install scikit-optimize"
      ]
    },
    {
      "cell_type": "code",
      "execution_count": null,
      "metadata": {
        "id": "r1XIjJKEfUq-"
      },
      "outputs": [],
      "source": [
        "from sklearn.datasets import load_iris\n",
        "from sklearn.model_selection import train_test_split\n",
        "from sklearn.linear_model import Ridge, Lasso,ElasticNet\n",
        "from sklearn.metrics import r2_score\n",
        "from sklearn.model_selection import GridSearchCV\n",
        "from sklearn.model_selection import RandomizedSearchCV\n",
        "from sklearn.model_selection import cross_val_score\n",
        "from skopt import BayesSearchCV\n",
        "import numpy as np"
      ]
    },
    {
      "cell_type": "code",
      "execution_count": null,
      "metadata": {
        "collapsed": true,
        "id": "5WSzlqhAiFUa"
      },
      "outputs": [],
      "source": [
        "data = load_iris()\n",
        "X, y = data.data, data.target\n",
        "X_train, X_test, y_train, y_test = train_test_split(X,y, test_size=0.2,random_state=42)"
      ]
    },
    {
      "cell_type": "code",
      "execution_count": null,
      "metadata": {
        "id": "qt1g5FsSksJ6"
      },
      "outputs": [],
      "source": [
        "model=ElasticNet()\n",
        "params = {\n",
        "             'alpha':[1e-4,1e-3,1e-2,0.1,0.2,0.3,0.4,0.5,0.6,0.7,0.8,0.9,1],\n",
        "              'l1_ratio':[0.1,0.2,0.3,0.4,0.5,0.6,0.7,0.8]\n",
        "            }\n",
        "grid_search = GridSearchCV(\n",
        "                            estimator=model,\n",
        "                            param_grid=params,\n",
        "                            scoring='r2',\n",
        "                            cv=5,\n",
        "                           )\n",
        "grid_search.fit(X_train, y_train)\n",
        "\n",
        "print(\"Grid Search:\\n===========================\")\n",
        "print(f\"Best Parameters:{grid_search.best_params_}\")\n",
        "print(f\"Best R2 Score:{grid_search.best_score_}\")"
      ]
    }
  ],
  "metadata": {
    "colab": {
      "provenance": [],
      "toc_visible": true,
      "authorship_tag": "ABX9TyMyQF3/vP3y6fMfy4if3tAl",
      "include_colab_link": true
    },
    "kernelspec": {
      "display_name": "Python 3",
      "name": "python3"
    },
    "language_info": {
      "name": "python"
    }
  },
  "nbformat": 4,
  "nbformat_minor": 0
}