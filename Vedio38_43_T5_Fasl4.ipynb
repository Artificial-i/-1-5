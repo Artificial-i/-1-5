{
  "nbformat": 4,
  "nbformat_minor": 0,
  "metadata": {
    "colab": {
      "provenance": [],
      "authorship_tag": "ABX9TyOr9jKB8WvRvQyQqrvncN6B",
      "include_colab_link": true
    },
    "kernelspec": {
      "name": "python3",
      "display_name": "Python 3"
    },
    "language_info": {
      "name": "python"
    }
  },
  "cells": [
    {
      "cell_type": "markdown",
      "metadata": {
        "id": "view-in-github",
        "colab_type": "text"
      },
      "source": [
        "<a href=\"https://colab.research.google.com/github/Artificial-i/-1-5/blob/main/Vedio38_43_T5_Fasl4.ipynb\" target=\"_parent\"><img src=\"https://colab.research.google.com/assets/colab-badge.svg\" alt=\"Open In Colab\"/></a>"
      ]
    },
    {
      "cell_type": "code",
      "execution_count": null,
      "metadata": {
        "id": "v0n2xAl9-MFm"
      },
      "outputs": [],
      "source": [
        "from google.colab.colab import drive\n",
        "driv.mount('/conent/drive/')"
      ]
    },
    {
      "cell_type": "code",
      "source": [
        "import panddas as pd\n",
        "import numpy as np\n",
        "import matplotlib.pyplot as plt\n"
      ],
      "metadata": {
        "id": "5xFc4MuUAr5p"
      },
      "execution_count": null,
      "outputs": []
    }
  ]
}